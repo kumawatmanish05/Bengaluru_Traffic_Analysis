{
 "cells": [
  {
   "cell_type": "code",
   "execution_count": 1,
   "id": "c927a6c5",
   "metadata": {
    "_cell_guid": "b1076dfc-b9ad-4769-8c92-a6c4dae69d19",
    "_uuid": "8f2839f25d086af736a60e9eeb907d3b93b6e0e5",
    "execution": {
     "iopub.execute_input": "2025-10-03T19:00:30.174897Z",
     "iopub.status.busy": "2025-10-03T19:00:30.174581Z",
     "iopub.status.idle": "2025-10-03T19:00:32.292659Z",
     "shell.execute_reply": "2025-10-03T19:00:32.291511Z"
    },
    "papermill": {
     "duration": 2.127013,
     "end_time": "2025-10-03T19:00:32.294851",
     "exception": false,
     "start_time": "2025-10-03T19:00:30.167838",
     "status": "completed"
    },
    "tags": []
   },
   "outputs": [
    {
     "name": "stdout",
     "output_type": "stream",
     "text": [
      "/kaggle/input/banglore-traffic-dataset-raw/Banglore_traffic_Dataset_raw.csv\n"
     ]
    }
   ],
   "source": [
    "# This Python 3 environment comes with many helpful analytics libraries installed\n",
    "# It is defined by the kaggle/python Docker image: https://github.com/kaggle/docker-python\n",
    "# For example, here's several helpful packages to load\n",
    "\n",
    "import numpy as np # linear algebra\n",
    "import pandas as pd # data processing, CSV file I/O (e.g. pd.read_csv)\n",
    "\n",
    "# Input data files are available in the read-only \"../input/\" directory\n",
    "# For example, running this (by clicking run or pressing Shift+Enter) will list all files under the input directory\n",
    "\n",
    "import os\n",
    "for dirname, _, filenames in os.walk('/kaggle/input'):\n",
    "    for filename in filenames:\n",
    "        print(os.path.join(dirname, filename))\n",
    "\n",
    "# You can write up to 20GB to the current directory (/kaggle/working/) that gets preserved as output when you create a version using \"Save & Run All\" \n",
    "# You can also write temporary files to /kaggle/temp/, but they won't be saved outside of the current session"
   ]
  },
  {
   "cell_type": "code",
   "execution_count": 2,
   "id": "b02b9db7",
   "metadata": {
    "execution": {
     "iopub.execute_input": "2025-10-03T19:00:32.305918Z",
     "iopub.status.busy": "2025-10-03T19:00:32.305464Z",
     "iopub.status.idle": "2025-10-03T19:00:34.512693Z",
     "shell.execute_reply": "2025-10-03T19:00:34.511451Z"
    },
    "papermill": {
     "duration": 2.214891,
     "end_time": "2025-10-03T19:00:34.514664",
     "exception": false,
     "start_time": "2025-10-03T19:00:32.299773",
     "status": "completed"
    },
    "tags": []
   },
   "outputs": [],
   "source": [
    "import pandas as pd\n",
    "import numpy as np\n",
    "import matplotlib.pyplot as plt\n",
    "import seaborn as sns\n",
    "import warnings\n",
    "warnings.filterwarnings(\"ignore\")"
   ]
  },
  {
   "cell_type": "code",
   "execution_count": 3,
   "id": "512a8a61",
   "metadata": {
    "execution": {
     "iopub.execute_input": "2025-10-03T19:00:34.525359Z",
     "iopub.status.busy": "2025-10-03T19:00:34.524829Z",
     "iopub.status.idle": "2025-10-03T19:00:34.635510Z",
     "shell.execute_reply": "2025-10-03T19:00:34.634279Z"
    },
    "papermill": {
     "duration": 0.11849,
     "end_time": "2025-10-03T19:00:34.637821",
     "exception": false,
     "start_time": "2025-10-03T19:00:34.519331",
     "status": "completed"
    },
    "tags": []
   },
   "outputs": [
    {
     "data": {
      "text/html": [
       "<div>\n",
       "<style scoped>\n",
       "    .dataframe tbody tr th:only-of-type {\n",
       "        vertical-align: middle;\n",
       "    }\n",
       "\n",
       "    .dataframe tbody tr th {\n",
       "        vertical-align: top;\n",
       "    }\n",
       "\n",
       "    .dataframe thead th {\n",
       "        text-align: right;\n",
       "    }\n",
       "</style>\n",
       "<table border=\"1\" class=\"dataframe\">\n",
       "  <thead>\n",
       "    <tr style=\"text-align: right;\">\n",
       "      <th></th>\n",
       "      <th>Date</th>\n",
       "      <th>Area Name</th>\n",
       "      <th>Road/Intersection Name</th>\n",
       "      <th>Traffic Volume</th>\n",
       "      <th>Average Speed</th>\n",
       "      <th>Travel Time Index</th>\n",
       "      <th>Congestion Level</th>\n",
       "      <th>Road Capacity Utilization</th>\n",
       "      <th>Incident Reports</th>\n",
       "      <th>Environmental Impact</th>\n",
       "      <th>Public Transport Usage</th>\n",
       "      <th>Traffic Signal Compliance</th>\n",
       "      <th>Parking Usage</th>\n",
       "      <th>Pedestrian and Cyclist Count</th>\n",
       "      <th>Weather Conditions</th>\n",
       "      <th>Roadwork and Construction Activity</th>\n",
       "    </tr>\n",
       "  </thead>\n",
       "  <tbody>\n",
       "    <tr>\n",
       "      <th>0</th>\n",
       "      <td>2022-01-01</td>\n",
       "      <td>Indiranagar</td>\n",
       "      <td>100 Feet Road</td>\n",
       "      <td>50590</td>\n",
       "      <td>50.230299</td>\n",
       "      <td>1.500000</td>\n",
       "      <td>100.000000</td>\n",
       "      <td>100.000000</td>\n",
       "      <td>0</td>\n",
       "      <td>151.180</td>\n",
       "      <td>70.632330</td>\n",
       "      <td>84.044600</td>\n",
       "      <td>85.403629</td>\n",
       "      <td>111</td>\n",
       "      <td>Clear</td>\n",
       "      <td>No</td>\n",
       "    </tr>\n",
       "    <tr>\n",
       "      <th>1</th>\n",
       "      <td>2022-01-01</td>\n",
       "      <td>Indiranagar</td>\n",
       "      <td>CMH Road</td>\n",
       "      <td>30825</td>\n",
       "      <td>29.377125</td>\n",
       "      <td>1.500000</td>\n",
       "      <td>100.000000</td>\n",
       "      <td>100.000000</td>\n",
       "      <td>1</td>\n",
       "      <td>111.650</td>\n",
       "      <td>41.924899</td>\n",
       "      <td>91.407038</td>\n",
       "      <td>59.983689</td>\n",
       "      <td>100</td>\n",
       "      <td>Clear</td>\n",
       "      <td>No</td>\n",
       "    </tr>\n",
       "    <tr>\n",
       "      <th>2</th>\n",
       "      <td>2022-01-01</td>\n",
       "      <td>Whitefield</td>\n",
       "      <td>Marathahalli Bridge</td>\n",
       "      <td>7399</td>\n",
       "      <td>54.474398</td>\n",
       "      <td>1.039069</td>\n",
       "      <td>28.347994</td>\n",
       "      <td>36.396525</td>\n",
       "      <td>0</td>\n",
       "      <td>64.798</td>\n",
       "      <td>44.662384</td>\n",
       "      <td>61.375541</td>\n",
       "      <td>95.466020</td>\n",
       "      <td>189</td>\n",
       "      <td>Clear</td>\n",
       "      <td>No</td>\n",
       "    </tr>\n",
       "    <tr>\n",
       "      <th>3</th>\n",
       "      <td>2022-01-01</td>\n",
       "      <td>Koramangala</td>\n",
       "      <td>Sony World Junction</td>\n",
       "      <td>60874</td>\n",
       "      <td>43.817610</td>\n",
       "      <td>1.500000</td>\n",
       "      <td>100.000000</td>\n",
       "      <td>100.000000</td>\n",
       "      <td>1</td>\n",
       "      <td>171.748</td>\n",
       "      <td>32.773123</td>\n",
       "      <td>75.547092</td>\n",
       "      <td>63.567452</td>\n",
       "      <td>111</td>\n",
       "      <td>Clear</td>\n",
       "      <td>No</td>\n",
       "    </tr>\n",
       "    <tr>\n",
       "      <th>4</th>\n",
       "      <td>2022-01-01</td>\n",
       "      <td>Koramangala</td>\n",
       "      <td>Sarjapur Road</td>\n",
       "      <td>57292</td>\n",
       "      <td>41.116763</td>\n",
       "      <td>1.500000</td>\n",
       "      <td>100.000000</td>\n",
       "      <td>100.000000</td>\n",
       "      <td>3</td>\n",
       "      <td>164.584</td>\n",
       "      <td>35.092601</td>\n",
       "      <td>64.634762</td>\n",
       "      <td>93.155171</td>\n",
       "      <td>104</td>\n",
       "      <td>Clear</td>\n",
       "      <td>No</td>\n",
       "    </tr>\n",
       "  </tbody>\n",
       "</table>\n",
       "</div>"
      ],
      "text/plain": [
       "         Date    Area Name Road/Intersection Name  Traffic Volume  \\\n",
       "0  2022-01-01  Indiranagar          100 Feet Road           50590   \n",
       "1  2022-01-01  Indiranagar               CMH Road           30825   \n",
       "2  2022-01-01   Whitefield    Marathahalli Bridge            7399   \n",
       "3  2022-01-01  Koramangala    Sony World Junction           60874   \n",
       "4  2022-01-01  Koramangala          Sarjapur Road           57292   \n",
       "\n",
       "   Average Speed  Travel Time Index  Congestion Level  \\\n",
       "0      50.230299           1.500000        100.000000   \n",
       "1      29.377125           1.500000        100.000000   \n",
       "2      54.474398           1.039069         28.347994   \n",
       "3      43.817610           1.500000        100.000000   \n",
       "4      41.116763           1.500000        100.000000   \n",
       "\n",
       "   Road Capacity Utilization  Incident Reports  Environmental Impact  \\\n",
       "0                 100.000000                 0               151.180   \n",
       "1                 100.000000                 1               111.650   \n",
       "2                  36.396525                 0                64.798   \n",
       "3                 100.000000                 1               171.748   \n",
       "4                 100.000000                 3               164.584   \n",
       "\n",
       "   Public Transport Usage  Traffic Signal Compliance  Parking Usage  \\\n",
       "0               70.632330                  84.044600      85.403629   \n",
       "1               41.924899                  91.407038      59.983689   \n",
       "2               44.662384                  61.375541      95.466020   \n",
       "3               32.773123                  75.547092      63.567452   \n",
       "4               35.092601                  64.634762      93.155171   \n",
       "\n",
       "   Pedestrian and Cyclist Count Weather Conditions  \\\n",
       "0                           111              Clear   \n",
       "1                           100              Clear   \n",
       "2                           189              Clear   \n",
       "3                           111              Clear   \n",
       "4                           104              Clear   \n",
       "\n",
       "  Roadwork and Construction Activity  \n",
       "0                                 No  \n",
       "1                                 No  \n",
       "2                                 No  \n",
       "3                                 No  \n",
       "4                                 No  "
      ]
     },
     "execution_count": 3,
     "metadata": {},
     "output_type": "execute_result"
    }
   ],
   "source": [
    "import pandas as pd\n",
    "\n",
    "# Replace with the actual dataset folder & file name\n",
    "df = pd.read_csv(\"/kaggle/input/banglore-traffic-dataset-raw/Banglore_traffic_Dataset_raw.csv\")\n",
    "df.head()\n"
   ]
  },
  {
   "cell_type": "code",
   "execution_count": 4,
   "id": "95abe8ea",
   "metadata": {
    "execution": {
     "iopub.execute_input": "2025-10-03T19:00:34.649612Z",
     "iopub.status.busy": "2025-10-03T19:00:34.649283Z",
     "iopub.status.idle": "2025-10-03T19:00:34.655793Z",
     "shell.execute_reply": "2025-10-03T19:00:34.654717Z"
    },
    "papermill": {
     "duration": 0.014185,
     "end_time": "2025-10-03T19:00:34.657739",
     "exception": false,
     "start_time": "2025-10-03T19:00:34.643554",
     "status": "completed"
    },
    "tags": []
   },
   "outputs": [
    {
     "data": {
      "text/plain": [
       "(8936, 16)"
      ]
     },
     "execution_count": 4,
     "metadata": {},
     "output_type": "execute_result"
    }
   ],
   "source": [
    "df.shape"
   ]
  },
  {
   "cell_type": "code",
   "execution_count": 5,
   "id": "89b02f44",
   "metadata": {
    "execution": {
     "iopub.execute_input": "2025-10-03T19:00:34.668732Z",
     "iopub.status.busy": "2025-10-03T19:00:34.668360Z",
     "iopub.status.idle": "2025-10-03T19:00:34.697112Z",
     "shell.execute_reply": "2025-10-03T19:00:34.695833Z"
    },
    "papermill": {
     "duration": 0.03617,
     "end_time": "2025-10-03T19:00:34.698808",
     "exception": false,
     "start_time": "2025-10-03T19:00:34.662638",
     "status": "completed"
    },
    "tags": []
   },
   "outputs": [
    {
     "name": "stdout",
     "output_type": "stream",
     "text": [
      "<class 'pandas.core.frame.DataFrame'>\n",
      "RangeIndex: 8936 entries, 0 to 8935\n",
      "Data columns (total 16 columns):\n",
      " #   Column                              Non-Null Count  Dtype  \n",
      "---  ------                              --------------  -----  \n",
      " 0   Date                                8936 non-null   object \n",
      " 1   Area Name                           8936 non-null   object \n",
      " 2   Road/Intersection Name              8936 non-null   object \n",
      " 3   Traffic Volume                      8936 non-null   int64  \n",
      " 4   Average Speed                       8936 non-null   float64\n",
      " 5   Travel Time Index                   8936 non-null   float64\n",
      " 6   Congestion Level                    8936 non-null   float64\n",
      " 7   Road Capacity Utilization           8936 non-null   float64\n",
      " 8   Incident Reports                    8936 non-null   int64  \n",
      " 9   Environmental Impact                8936 non-null   float64\n",
      " 10  Public Transport Usage              8936 non-null   float64\n",
      " 11  Traffic Signal Compliance           8936 non-null   float64\n",
      " 12  Parking Usage                       8936 non-null   float64\n",
      " 13  Pedestrian and Cyclist Count        8936 non-null   int64  \n",
      " 14  Weather Conditions                  8936 non-null   object \n",
      " 15  Roadwork and Construction Activity  8936 non-null   object \n",
      "dtypes: float64(8), int64(3), object(5)\n",
      "memory usage: 1.1+ MB\n"
     ]
    }
   ],
   "source": [
    "# copying the original dataset file\n",
    "df_copy = df.copy()\n",
    "df_copy.info()"
   ]
  },
  {
   "cell_type": "code",
   "execution_count": 6,
   "id": "ac7d493d",
   "metadata": {
    "execution": {
     "iopub.execute_input": "2025-10-03T19:00:34.710072Z",
     "iopub.status.busy": "2025-10-03T19:00:34.709695Z",
     "iopub.status.idle": "2025-10-03T19:00:34.752248Z",
     "shell.execute_reply": "2025-10-03T19:00:34.751146Z"
    },
    "papermill": {
     "duration": 0.050368,
     "end_time": "2025-10-03T19:00:34.754067",
     "exception": false,
     "start_time": "2025-10-03T19:00:34.703699",
     "status": "completed"
    },
    "tags": []
   },
   "outputs": [
    {
     "data": {
      "text/html": [
       "<div>\n",
       "<style scoped>\n",
       "    .dataframe tbody tr th:only-of-type {\n",
       "        vertical-align: middle;\n",
       "    }\n",
       "\n",
       "    .dataframe tbody tr th {\n",
       "        vertical-align: top;\n",
       "    }\n",
       "\n",
       "    .dataframe thead th {\n",
       "        text-align: right;\n",
       "    }\n",
       "</style>\n",
       "<table border=\"1\" class=\"dataframe\">\n",
       "  <thead>\n",
       "    <tr style=\"text-align: right;\">\n",
       "      <th></th>\n",
       "      <th>Traffic Volume</th>\n",
       "      <th>Average Speed</th>\n",
       "      <th>Travel Time Index</th>\n",
       "      <th>Congestion Level</th>\n",
       "      <th>Road Capacity Utilization</th>\n",
       "      <th>Incident Reports</th>\n",
       "      <th>Environmental Impact</th>\n",
       "      <th>Public Transport Usage</th>\n",
       "      <th>Traffic Signal Compliance</th>\n",
       "      <th>Parking Usage</th>\n",
       "      <th>Pedestrian and Cyclist Count</th>\n",
       "    </tr>\n",
       "  </thead>\n",
       "  <tbody>\n",
       "    <tr>\n",
       "      <th>count</th>\n",
       "      <td>8936.000000</td>\n",
       "      <td>8936.000000</td>\n",
       "      <td>8936.000000</td>\n",
       "      <td>8936.000000</td>\n",
       "      <td>8936.000000</td>\n",
       "      <td>8936.000000</td>\n",
       "      <td>8936.000000</td>\n",
       "      <td>8936.000000</td>\n",
       "      <td>8936.000000</td>\n",
       "      <td>8936.000000</td>\n",
       "      <td>8936.000000</td>\n",
       "    </tr>\n",
       "    <tr>\n",
       "      <th>mean</th>\n",
       "      <td>29236.048120</td>\n",
       "      <td>39.447427</td>\n",
       "      <td>1.375554</td>\n",
       "      <td>80.818041</td>\n",
       "      <td>92.029215</td>\n",
       "      <td>1.570389</td>\n",
       "      <td>108.472096</td>\n",
       "      <td>45.086651</td>\n",
       "      <td>79.950243</td>\n",
       "      <td>75.155597</td>\n",
       "      <td>114.533348</td>\n",
       "    </tr>\n",
       "    <tr>\n",
       "      <th>std</th>\n",
       "      <td>13001.808801</td>\n",
       "      <td>10.707244</td>\n",
       "      <td>0.165319</td>\n",
       "      <td>23.533182</td>\n",
       "      <td>16.583341</td>\n",
       "      <td>1.420047</td>\n",
       "      <td>26.003618</td>\n",
       "      <td>20.208460</td>\n",
       "      <td>11.585006</td>\n",
       "      <td>14.409394</td>\n",
       "      <td>36.812573</td>\n",
       "    </tr>\n",
       "    <tr>\n",
       "      <th>min</th>\n",
       "      <td>4233.000000</td>\n",
       "      <td>20.000000</td>\n",
       "      <td>1.000039</td>\n",
       "      <td>5.160279</td>\n",
       "      <td>18.739771</td>\n",
       "      <td>0.000000</td>\n",
       "      <td>58.466000</td>\n",
       "      <td>10.006853</td>\n",
       "      <td>60.003933</td>\n",
       "      <td>50.020411</td>\n",
       "      <td>66.000000</td>\n",
       "    </tr>\n",
       "    <tr>\n",
       "      <th>25%</th>\n",
       "      <td>19413.000000</td>\n",
       "      <td>31.775825</td>\n",
       "      <td>1.242459</td>\n",
       "      <td>64.292905</td>\n",
       "      <td>97.354990</td>\n",
       "      <td>0.000000</td>\n",
       "      <td>88.826000</td>\n",
       "      <td>27.341191</td>\n",
       "      <td>69.828270</td>\n",
       "      <td>62.545895</td>\n",
       "      <td>94.000000</td>\n",
       "    </tr>\n",
       "    <tr>\n",
       "      <th>50%</th>\n",
       "      <td>27600.000000</td>\n",
       "      <td>39.199368</td>\n",
       "      <td>1.500000</td>\n",
       "      <td>92.389018</td>\n",
       "      <td>100.000000</td>\n",
       "      <td>1.000000</td>\n",
       "      <td>105.200000</td>\n",
       "      <td>45.170684</td>\n",
       "      <td>79.992773</td>\n",
       "      <td>75.317610</td>\n",
       "      <td>102.000000</td>\n",
       "    </tr>\n",
       "    <tr>\n",
       "      <th>75%</th>\n",
       "      <td>38058.500000</td>\n",
       "      <td>46.644517</td>\n",
       "      <td>1.500000</td>\n",
       "      <td>100.000000</td>\n",
       "      <td>100.000000</td>\n",
       "      <td>2.000000</td>\n",
       "      <td>126.117000</td>\n",
       "      <td>62.426485</td>\n",
       "      <td>89.957358</td>\n",
       "      <td>87.518589</td>\n",
       "      <td>111.000000</td>\n",
       "    </tr>\n",
       "    <tr>\n",
       "      <th>max</th>\n",
       "      <td>72039.000000</td>\n",
       "      <td>89.790843</td>\n",
       "      <td>1.500000</td>\n",
       "      <td>100.000000</td>\n",
       "      <td>100.000000</td>\n",
       "      <td>10.000000</td>\n",
       "      <td>194.078000</td>\n",
       "      <td>79.979744</td>\n",
       "      <td>99.993652</td>\n",
       "      <td>99.995049</td>\n",
       "      <td>243.000000</td>\n",
       "    </tr>\n",
       "  </tbody>\n",
       "</table>\n",
       "</div>"
      ],
      "text/plain": [
       "       Traffic Volume  Average Speed  Travel Time Index  Congestion Level  \\\n",
       "count     8936.000000    8936.000000        8936.000000       8936.000000   \n",
       "mean     29236.048120      39.447427           1.375554         80.818041   \n",
       "std      13001.808801      10.707244           0.165319         23.533182   \n",
       "min       4233.000000      20.000000           1.000039          5.160279   \n",
       "25%      19413.000000      31.775825           1.242459         64.292905   \n",
       "50%      27600.000000      39.199368           1.500000         92.389018   \n",
       "75%      38058.500000      46.644517           1.500000        100.000000   \n",
       "max      72039.000000      89.790843           1.500000        100.000000   \n",
       "\n",
       "       Road Capacity Utilization  Incident Reports  Environmental Impact  \\\n",
       "count                8936.000000       8936.000000           8936.000000   \n",
       "mean                   92.029215          1.570389            108.472096   \n",
       "std                    16.583341          1.420047             26.003618   \n",
       "min                    18.739771          0.000000             58.466000   \n",
       "25%                    97.354990          0.000000             88.826000   \n",
       "50%                   100.000000          1.000000            105.200000   \n",
       "75%                   100.000000          2.000000            126.117000   \n",
       "max                   100.000000         10.000000            194.078000   \n",
       "\n",
       "       Public Transport Usage  Traffic Signal Compliance  Parking Usage  \\\n",
       "count             8936.000000                8936.000000    8936.000000   \n",
       "mean                45.086651                  79.950243      75.155597   \n",
       "std                 20.208460                  11.585006      14.409394   \n",
       "min                 10.006853                  60.003933      50.020411   \n",
       "25%                 27.341191                  69.828270      62.545895   \n",
       "50%                 45.170684                  79.992773      75.317610   \n",
       "75%                 62.426485                  89.957358      87.518589   \n",
       "max                 79.979744                  99.993652      99.995049   \n",
       "\n",
       "       Pedestrian and Cyclist Count  \n",
       "count                   8936.000000  \n",
       "mean                     114.533348  \n",
       "std                       36.812573  \n",
       "min                       66.000000  \n",
       "25%                       94.000000  \n",
       "50%                      102.000000  \n",
       "75%                      111.000000  \n",
       "max                      243.000000  "
      ]
     },
     "execution_count": 6,
     "metadata": {},
     "output_type": "execute_result"
    }
   ],
   "source": [
    "df_copy.describe()"
   ]
  },
  {
   "cell_type": "code",
   "execution_count": 7,
   "id": "8aeb3de2",
   "metadata": {
    "execution": {
     "iopub.execute_input": "2025-10-03T19:00:34.765882Z",
     "iopub.status.busy": "2025-10-03T19:00:34.765529Z",
     "iopub.status.idle": "2025-10-03T19:00:34.776783Z",
     "shell.execute_reply": "2025-10-03T19:00:34.775925Z"
    },
    "papermill": {
     "duration": 0.019264,
     "end_time": "2025-10-03T19:00:34.778636",
     "exception": false,
     "start_time": "2025-10-03T19:00:34.759372",
     "status": "completed"
    },
    "tags": []
   },
   "outputs": [
    {
     "data": {
      "text/plain": [
       "Date                                  0\n",
       "Area Name                             0\n",
       "Road/Intersection Name                0\n",
       "Traffic Volume                        0\n",
       "Average Speed                         0\n",
       "Travel Time Index                     0\n",
       "Congestion Level                      0\n",
       "Road Capacity Utilization             0\n",
       "Incident Reports                      0\n",
       "Environmental Impact                  0\n",
       "Public Transport Usage                0\n",
       "Traffic Signal Compliance             0\n",
       "Parking Usage                         0\n",
       "Pedestrian and Cyclist Count          0\n",
       "Weather Conditions                    0\n",
       "Roadwork and Construction Activity    0\n",
       "dtype: int64"
      ]
     },
     "execution_count": 7,
     "metadata": {},
     "output_type": "execute_result"
    }
   ],
   "source": [
    "# checking for null values\n",
    "missing_count = df_copy.isnull().sum().sort_values(ascending = False)\n",
    "missing_count"
   ]
  },
  {
   "cell_type": "code",
   "execution_count": 8,
   "id": "afa8c127",
   "metadata": {
    "execution": {
     "iopub.execute_input": "2025-10-03T19:00:34.791552Z",
     "iopub.status.busy": "2025-10-03T19:00:34.791197Z",
     "iopub.status.idle": "2025-10-03T19:00:34.802335Z",
     "shell.execute_reply": "2025-10-03T19:00:34.801373Z"
    },
    "papermill": {
     "duration": 0.020337,
     "end_time": "2025-10-03T19:00:34.804307",
     "exception": false,
     "start_time": "2025-10-03T19:00:34.783970",
     "status": "completed"
    },
    "tags": []
   },
   "outputs": [
    {
     "data": {
      "text/plain": [
       "Date                                  0\n",
       "Area Name                             0\n",
       "Road/Intersection Name                0\n",
       "Traffic Volume                        0\n",
       "Average Speed                         0\n",
       "Travel Time Index                     0\n",
       "Congestion Level                      0\n",
       "Road Capacity Utilization             0\n",
       "Incident Reports                      0\n",
       "Environmental Impact                  0\n",
       "Public Transport Usage                0\n",
       "Traffic Signal Compliance             0\n",
       "Parking Usage                         0\n",
       "Pedestrian and Cyclist Count          0\n",
       "Weather Conditions                    0\n",
       "Roadwork and Construction Activity    0\n",
       "dtype: int64"
      ]
     },
     "execution_count": 8,
     "metadata": {},
     "output_type": "execute_result"
    }
   ],
   "source": [
    "# checking for NaN values\n",
    "find_na = df_copy.isna().sum()\n",
    "find_na\n"
   ]
  },
  {
   "cell_type": "code",
   "execution_count": 9,
   "id": "3cdba815",
   "metadata": {
    "execution": {
     "iopub.execute_input": "2025-10-03T19:00:34.816644Z",
     "iopub.status.busy": "2025-10-03T19:00:34.816298Z",
     "iopub.status.idle": "2025-10-03T19:00:34.827079Z",
     "shell.execute_reply": "2025-10-03T19:00:34.826221Z"
    },
    "papermill": {
     "duration": 0.018889,
     "end_time": "2025-10-03T19:00:34.828764",
     "exception": false,
     "start_time": "2025-10-03T19:00:34.809875",
     "status": "completed"
    },
    "tags": []
   },
   "outputs": [
    {
     "data": {
      "text/plain": [
       "Date                                  0\n",
       "Area Name                             0\n",
       "Road/Intersection Name                0\n",
       "Traffic Volume                        0\n",
       "Average Speed                         0\n",
       "Travel Time Index                     0\n",
       "Congestion Level                      0\n",
       "Road Capacity Utilization             0\n",
       "Incident Reports                      0\n",
       "Environmental Impact                  0\n",
       "Public Transport Usage                0\n",
       "Traffic Signal Compliance             0\n",
       "Parking Usage                         0\n",
       "Pedestrian and Cyclist Count          0\n",
       "Weather Conditions                    0\n",
       "Roadwork and Construction Activity    0\n",
       "dtype: int64"
      ]
     },
     "execution_count": 9,
     "metadata": {},
     "output_type": "execute_result"
    }
   ],
   "source": [
    "# checking for NaN values\n",
    "find_na = df_copy.isna().sum()\n",
    "find_na"
   ]
  },
  {
   "cell_type": "code",
   "execution_count": 10,
   "id": "e7f053d7",
   "metadata": {
    "execution": {
     "iopub.execute_input": "2025-10-03T19:00:34.841378Z",
     "iopub.status.busy": "2025-10-03T19:00:34.841011Z",
     "iopub.status.idle": "2025-10-03T19:00:34.847022Z",
     "shell.execute_reply": "2025-10-03T19:00:34.846234Z"
    },
    "papermill": {
     "duration": 0.013898,
     "end_time": "2025-10-03T19:00:34.848614",
     "exception": false,
     "start_time": "2025-10-03T19:00:34.834716",
     "status": "completed"
    },
    "tags": []
   },
   "outputs": [
    {
     "data": {
      "text/plain": [
       "True"
      ]
     },
     "execution_count": 10,
     "metadata": {},
     "output_type": "execute_result"
    }
   ],
   "source": [
    "# checking index values are unique or not\n",
    "df_copy.index.is_unique"
   ]
  },
  {
   "cell_type": "code",
   "execution_count": 11,
   "id": "97a3d8a4",
   "metadata": {
    "execution": {
     "iopub.execute_input": "2025-10-03T19:00:34.861608Z",
     "iopub.status.busy": "2025-10-03T19:00:34.860884Z",
     "iopub.status.idle": "2025-10-03T19:00:34.877004Z",
     "shell.execute_reply": "2025-10-03T19:00:34.876115Z"
    },
    "papermill": {
     "duration": 0.024095,
     "end_time": "2025-10-03T19:00:34.878576",
     "exception": false,
     "start_time": "2025-10-03T19:00:34.854481",
     "status": "completed"
    },
    "tags": []
   },
   "outputs": [
    {
     "data": {
      "text/plain": [
       "0"
      ]
     },
     "execution_count": 11,
     "metadata": {},
     "output_type": "execute_result"
    }
   ],
   "source": [
    "# Checking for any duplicate values\n",
    "duplicate_values = df_copy.duplicated().sum()\n",
    "duplicate_values"
   ]
  },
  {
   "cell_type": "code",
   "execution_count": 12,
   "id": "25ca5984",
   "metadata": {
    "execution": {
     "iopub.execute_input": "2025-10-03T19:00:34.891861Z",
     "iopub.status.busy": "2025-10-03T19:00:34.891571Z",
     "iopub.status.idle": "2025-10-03T19:00:34.913678Z",
     "shell.execute_reply": "2025-10-03T19:00:34.912333Z"
    },
    "papermill": {
     "duration": 0.030361,
     "end_time": "2025-10-03T19:00:34.915475",
     "exception": false,
     "start_time": "2025-10-03T19:00:34.885114",
     "status": "completed"
    },
    "tags": []
   },
   "outputs": [
    {
     "name": "stdout",
     "output_type": "stream",
     "text": [
      "<class 'pandas.core.frame.DataFrame'>\n",
      "RangeIndex: 8936 entries, 0 to 8935\n",
      "Data columns (total 16 columns):\n",
      " #   Column                              Non-Null Count  Dtype         \n",
      "---  ------                              --------------  -----         \n",
      " 0   Date                                8936 non-null   datetime64[ns]\n",
      " 1   Area Name                           8936 non-null   object        \n",
      " 2   Road/Intersection Name              8936 non-null   object        \n",
      " 3   Traffic Volume                      8936 non-null   int64         \n",
      " 4   Average Speed                       8936 non-null   float64       \n",
      " 5   Travel Time Index                   8936 non-null   float64       \n",
      " 6   Congestion Level                    8936 non-null   float64       \n",
      " 7   Road Capacity Utilization           8936 non-null   float64       \n",
      " 8   Incident Reports                    8936 non-null   int64         \n",
      " 9   Environmental Impact                8936 non-null   float64       \n",
      " 10  Public Transport Usage              8936 non-null   float64       \n",
      " 11  Traffic Signal Compliance           8936 non-null   float64       \n",
      " 12  Parking Usage                       8936 non-null   float64       \n",
      " 13  Pedestrian and Cyclist Count        8936 non-null   int64         \n",
      " 14  Weather Conditions                  8936 non-null   object        \n",
      " 15  Roadwork and Construction Activity  8936 non-null   object        \n",
      "dtypes: datetime64[ns](1), float64(8), int64(3), object(4)\n",
      "memory usage: 1.1+ MB\n"
     ]
    }
   ],
   "source": [
    "# Changing the of 'date' from 'object' to 'datetime' object\n",
    "df_copy['Date'] = pd.to_datetime(df_copy['Date'])\n",
    "df_copy.info()"
   ]
  },
  {
   "cell_type": "code",
   "execution_count": 13,
   "id": "6b4b861b",
   "metadata": {
    "execution": {
     "iopub.execute_input": "2025-10-03T19:00:34.927792Z",
     "iopub.status.busy": "2025-10-03T19:00:34.927495Z",
     "iopub.status.idle": "2025-10-03T19:00:34.934726Z",
     "shell.execute_reply": "2025-10-03T19:00:34.933444Z"
    },
    "papermill": {
     "duration": 0.015236,
     "end_time": "2025-10-03T19:00:34.936332",
     "exception": false,
     "start_time": "2025-10-03T19:00:34.921096",
     "status": "completed"
    },
    "tags": []
   },
   "outputs": [
    {
     "data": {
      "text/plain": [
       "array(['Clear', 'Overcast', 'Fog', 'Rain', 'Windy'], dtype=object)"
      ]
     },
     "execution_count": 13,
     "metadata": {},
     "output_type": "execute_result"
    }
   ],
   "source": [
    "df_copy['Weather Conditions'].unique()"
   ]
  },
  {
   "cell_type": "code",
   "execution_count": 14,
   "id": "032ec1e5",
   "metadata": {
    "execution": {
     "iopub.execute_input": "2025-10-03T19:00:34.949240Z",
     "iopub.status.busy": "2025-10-03T19:00:34.948898Z",
     "iopub.status.idle": "2025-10-03T19:00:34.956773Z",
     "shell.execute_reply": "2025-10-03T19:00:34.955665Z"
    },
    "papermill": {
     "duration": 0.016308,
     "end_time": "2025-10-03T19:00:34.958595",
     "exception": false,
     "start_time": "2025-10-03T19:00:34.942287",
     "status": "completed"
    },
    "tags": []
   },
   "outputs": [
    {
     "data": {
      "text/plain": [
       "array(['Indiranagar', 'Whitefield', 'Koramangala', 'M.G. Road',\n",
       "       'Jayanagar', 'Hebbal', 'Yeshwanthpur', 'Electronic City'],\n",
       "      dtype=object)"
      ]
     },
     "execution_count": 14,
     "metadata": {},
     "output_type": "execute_result"
    }
   ],
   "source": [
    "df_copy['Area Name'].unique()"
   ]
  },
  {
   "cell_type": "code",
   "execution_count": 15,
   "id": "7d773b09",
   "metadata": {
    "execution": {
     "iopub.execute_input": "2025-10-03T19:00:34.973148Z",
     "iopub.status.busy": "2025-10-03T19:00:34.972771Z",
     "iopub.status.idle": "2025-10-03T19:00:34.979539Z",
     "shell.execute_reply": "2025-10-03T19:00:34.978553Z"
    },
    "papermill": {
     "duration": 0.015533,
     "end_time": "2025-10-03T19:00:34.981277",
     "exception": false,
     "start_time": "2025-10-03T19:00:34.965744",
     "status": "completed"
    },
    "tags": []
   },
   "outputs": [
    {
     "data": {
      "text/plain": [
       "array(['100 Feet Road', 'CMH Road', 'Marathahalli Bridge',\n",
       "       'Sony World Junction', 'Sarjapur Road', 'Trinity Circle',\n",
       "       'Anil Kumble Circle', 'Jayanagar 4th Block', 'South End Circle',\n",
       "       'Hebbal Flyover', 'Ballari Road', 'Yeshwanthpur Circle',\n",
       "       'Tumkur Road', 'ITPL Main Road', 'Silk Board Junction',\n",
       "       'Hosur Road'], dtype=object)"
      ]
     },
     "execution_count": 15,
     "metadata": {},
     "output_type": "execute_result"
    }
   ],
   "source": [
    "df_copy['Road/Intersection Name'].unique()"
   ]
  },
  {
   "cell_type": "code",
   "execution_count": 16,
   "id": "592c1373",
   "metadata": {
    "execution": {
     "iopub.execute_input": "2025-10-03T19:00:34.994583Z",
     "iopub.status.busy": "2025-10-03T19:00:34.993831Z",
     "iopub.status.idle": "2025-10-03T19:00:35.008179Z",
     "shell.execute_reply": "2025-10-03T19:00:35.007025Z"
    },
    "papermill": {
     "duration": 0.022754,
     "end_time": "2025-10-03T19:00:35.009864",
     "exception": false,
     "start_time": "2025-10-03T19:00:34.987110",
     "status": "completed"
    },
    "tags": []
   },
   "outputs": [],
   "source": [
    "# Creating new columns from date to use this is future to create the dashboard\n",
    "df_copy['Day of Week'] = df_copy['Date'].dt.day_of_week\n",
    "df_copy['Is Weekend'] = (df_copy['Day of Week'] >= 5).astype(int)\n",
    "df_copy['Day Name'] = df_copy['Date'].dt.day_name()\n",
    "df_copy['Month'] = df_copy['Date'].dt.month\n",
    "df_copy['Year'] = df_copy['Date'].dt.year"
   ]
  },
  {
   "cell_type": "code",
   "execution_count": 17,
   "id": "b7f78247",
   "metadata": {
    "execution": {
     "iopub.execute_input": "2025-10-03T19:00:35.023066Z",
     "iopub.status.busy": "2025-10-03T19:00:35.022687Z",
     "iopub.status.idle": "2025-10-03T19:00:35.037255Z",
     "shell.execute_reply": "2025-10-03T19:00:35.036107Z"
    },
    "papermill": {
     "duration": 0.023139,
     "end_time": "2025-10-03T19:00:35.038901",
     "exception": false,
     "start_time": "2025-10-03T19:00:35.015762",
     "status": "completed"
    },
    "tags": []
   },
   "outputs": [
    {
     "name": "stdout",
     "output_type": "stream",
     "text": [
      "<class 'pandas.core.frame.DataFrame'>\n",
      "RangeIndex: 8936 entries, 0 to 8935\n",
      "Data columns (total 21 columns):\n",
      " #   Column                              Non-Null Count  Dtype         \n",
      "---  ------                              --------------  -----         \n",
      " 0   Date                                8936 non-null   datetime64[ns]\n",
      " 1   Area Name                           8936 non-null   object        \n",
      " 2   Road/Intersection Name              8936 non-null   object        \n",
      " 3   Traffic Volume                      8936 non-null   int64         \n",
      " 4   Average Speed                       8936 non-null   float64       \n",
      " 5   Travel Time Index                   8936 non-null   float64       \n",
      " 6   Congestion Level                    8936 non-null   float64       \n",
      " 7   Road Capacity Utilization           8936 non-null   float64       \n",
      " 8   Incident Reports                    8936 non-null   int64         \n",
      " 9   Environmental Impact                8936 non-null   float64       \n",
      " 10  Public Transport Usage              8936 non-null   float64       \n",
      " 11  Traffic Signal Compliance           8936 non-null   float64       \n",
      " 12  Parking Usage                       8936 non-null   float64       \n",
      " 13  Pedestrian and Cyclist Count        8936 non-null   int64         \n",
      " 14  Weather Conditions                  8936 non-null   object        \n",
      " 15  Roadwork and Construction Activity  8936 non-null   object        \n",
      " 16  Day of Week                         8936 non-null   int32         \n",
      " 17  Is Weekend                          8936 non-null   int64         \n",
      " 18  Day Name                            8936 non-null   object        \n",
      " 19  Month                               8936 non-null   int32         \n",
      " 20  Year                                8936 non-null   int32         \n",
      "dtypes: datetime64[ns](1), float64(8), int32(3), int64(4), object(5)\n",
      "memory usage: 1.3+ MB\n"
     ]
    }
   ],
   "source": [
    "df_copy.info()"
   ]
  },
  {
   "cell_type": "code",
   "execution_count": 18,
   "id": "15eb6e39",
   "metadata": {
    "execution": {
     "iopub.execute_input": "2025-10-03T19:00:35.052203Z",
     "iopub.status.busy": "2025-10-03T19:00:35.051736Z",
     "iopub.status.idle": "2025-10-03T19:00:35.060533Z",
     "shell.execute_reply": "2025-10-03T19:00:35.059513Z"
    },
    "papermill": {
     "duration": 0.017365,
     "end_time": "2025-10-03T19:00:35.062410",
     "exception": false,
     "start_time": "2025-10-03T19:00:35.045045",
     "status": "completed"
    },
    "tags": []
   },
   "outputs": [
    {
     "data": {
      "text/plain": [
       "array([5, 6, 0, 1, 2, 3, 4], dtype=int32)"
      ]
     },
     "execution_count": 18,
     "metadata": {},
     "output_type": "execute_result"
    }
   ],
   "source": [
    "df_copy['Day of Week'].unique()"
   ]
  },
  {
   "cell_type": "code",
   "execution_count": 19,
   "id": "df88ba26",
   "metadata": {
    "execution": {
     "iopub.execute_input": "2025-10-03T19:00:35.075536Z",
     "iopub.status.busy": "2025-10-03T19:00:35.075219Z",
     "iopub.status.idle": "2025-10-03T19:00:35.081847Z",
     "shell.execute_reply": "2025-10-03T19:00:35.081023Z"
    },
    "papermill": {
     "duration": 0.015171,
     "end_time": "2025-10-03T19:00:35.083520",
     "exception": false,
     "start_time": "2025-10-03T19:00:35.068349",
     "status": "completed"
    },
    "tags": []
   },
   "outputs": [
    {
     "data": {
      "text/plain": [
       "array(['Saturday', 'Sunday', 'Monday', 'Tuesday', 'Wednesday', 'Thursday',\n",
       "       'Friday'], dtype=object)"
      ]
     },
     "execution_count": 19,
     "metadata": {},
     "output_type": "execute_result"
    }
   ],
   "source": [
    "df_copy['Day Name'].unique()"
   ]
  },
  {
   "cell_type": "code",
   "execution_count": 20,
   "id": "c9c6a676",
   "metadata": {
    "execution": {
     "iopub.execute_input": "2025-10-03T19:00:35.097074Z",
     "iopub.status.busy": "2025-10-03T19:00:35.096741Z",
     "iopub.status.idle": "2025-10-03T19:00:35.103835Z",
     "shell.execute_reply": "2025-10-03T19:00:35.103021Z"
    },
    "papermill": {
     "duration": 0.016326,
     "end_time": "2025-10-03T19:00:35.105919",
     "exception": false,
     "start_time": "2025-10-03T19:00:35.089593",
     "status": "completed"
    },
    "tags": []
   },
   "outputs": [
    {
     "data": {
      "text/plain": [
       "array([2022, 2023, 2024], dtype=int32)"
      ]
     },
     "execution_count": 20,
     "metadata": {},
     "output_type": "execute_result"
    }
   ],
   "source": [
    "df_copy['Year'].unique()"
   ]
  },
  {
   "cell_type": "code",
   "execution_count": 21,
   "id": "0abe289f",
   "metadata": {
    "execution": {
     "iopub.execute_input": "2025-10-03T19:00:35.120020Z",
     "iopub.status.busy": "2025-10-03T19:00:35.119678Z",
     "iopub.status.idle": "2025-10-03T19:00:35.126187Z",
     "shell.execute_reply": "2025-10-03T19:00:35.125293Z"
    },
    "papermill": {
     "duration": 0.015105,
     "end_time": "2025-10-03T19:00:35.127740",
     "exception": false,
     "start_time": "2025-10-03T19:00:35.112635",
     "status": "completed"
    },
    "tags": []
   },
   "outputs": [
    {
     "data": {
      "text/plain": [
       "array([ 1,  2,  3,  4,  5,  6,  7,  8,  9, 10, 11, 12], dtype=int32)"
      ]
     },
     "execution_count": 21,
     "metadata": {},
     "output_type": "execute_result"
    }
   ],
   "source": [
    "df_copy['Month'].unique()"
   ]
  },
  {
   "cell_type": "code",
   "execution_count": 22,
   "id": "d637308d",
   "metadata": {
    "execution": {
     "iopub.execute_input": "2025-10-03T19:00:35.141767Z",
     "iopub.status.busy": "2025-10-03T19:00:35.140815Z",
     "iopub.status.idle": "2025-10-03T19:00:35.264335Z",
     "shell.execute_reply": "2025-10-03T19:00:35.263259Z"
    },
    "papermill": {
     "duration": 0.132483,
     "end_time": "2025-10-03T19:00:35.266358",
     "exception": false,
     "start_time": "2025-10-03T19:00:35.133875",
     "status": "completed"
    },
    "tags": []
   },
   "outputs": [
    {
     "data": {
      "text/html": [
       "<div>\n",
       "<style scoped>\n",
       "    .dataframe tbody tr th:only-of-type {\n",
       "        vertical-align: middle;\n",
       "    }\n",
       "\n",
       "    .dataframe tbody tr th {\n",
       "        vertical-align: top;\n",
       "    }\n",
       "\n",
       "    .dataframe thead th {\n",
       "        text-align: right;\n",
       "    }\n",
       "</style>\n",
       "<table border=\"1\" class=\"dataframe\">\n",
       "  <thead>\n",
       "    <tr style=\"text-align: right;\">\n",
       "      <th></th>\n",
       "      <th>Date</th>\n",
       "      <th>Area Name</th>\n",
       "      <th>Road/Intersection Name</th>\n",
       "      <th>Traffic Volume</th>\n",
       "      <th>Average Speed</th>\n",
       "      <th>Travel Time Index</th>\n",
       "      <th>Congestion Level</th>\n",
       "      <th>Road Capacity Utilization</th>\n",
       "      <th>Incident Reports</th>\n",
       "      <th>Environmental Impact</th>\n",
       "      <th>...</th>\n",
       "      <th>Traffic Signal Compliance</th>\n",
       "      <th>Parking Usage</th>\n",
       "      <th>Pedestrian and Cyclist Count</th>\n",
       "      <th>Weather Conditions</th>\n",
       "      <th>Roadwork and Construction Activity</th>\n",
       "      <th>Day of Week</th>\n",
       "      <th>Is Weekend</th>\n",
       "      <th>Day Name</th>\n",
       "      <th>Month</th>\n",
       "      <th>Year</th>\n",
       "    </tr>\n",
       "  </thead>\n",
       "  <tbody>\n",
       "    <tr>\n",
       "      <th>0</th>\n",
       "      <td>2022-01-01</td>\n",
       "      <td>Indiranagar</td>\n",
       "      <td>100 Feet Road</td>\n",
       "      <td>50590</td>\n",
       "      <td>50.230299</td>\n",
       "      <td>1.500000</td>\n",
       "      <td>100.000000</td>\n",
       "      <td>100.000000</td>\n",
       "      <td>0</td>\n",
       "      <td>151.180</td>\n",
       "      <td>...</td>\n",
       "      <td>84.044600</td>\n",
       "      <td>85.403629</td>\n",
       "      <td>111</td>\n",
       "      <td>Clear</td>\n",
       "      <td>No</td>\n",
       "      <td>5</td>\n",
       "      <td>1</td>\n",
       "      <td>Saturday</td>\n",
       "      <td>1</td>\n",
       "      <td>2022</td>\n",
       "    </tr>\n",
       "    <tr>\n",
       "      <th>1</th>\n",
       "      <td>2022-01-01</td>\n",
       "      <td>Indiranagar</td>\n",
       "      <td>CMH Road</td>\n",
       "      <td>30825</td>\n",
       "      <td>29.377125</td>\n",
       "      <td>1.500000</td>\n",
       "      <td>100.000000</td>\n",
       "      <td>100.000000</td>\n",
       "      <td>1</td>\n",
       "      <td>111.650</td>\n",
       "      <td>...</td>\n",
       "      <td>91.407038</td>\n",
       "      <td>59.983689</td>\n",
       "      <td>100</td>\n",
       "      <td>Clear</td>\n",
       "      <td>No</td>\n",
       "      <td>5</td>\n",
       "      <td>1</td>\n",
       "      <td>Saturday</td>\n",
       "      <td>1</td>\n",
       "      <td>2022</td>\n",
       "    </tr>\n",
       "    <tr>\n",
       "      <th>2</th>\n",
       "      <td>2022-01-01</td>\n",
       "      <td>Whitefield</td>\n",
       "      <td>Marathahalli Bridge</td>\n",
       "      <td>7399</td>\n",
       "      <td>54.474398</td>\n",
       "      <td>1.039069</td>\n",
       "      <td>28.347994</td>\n",
       "      <td>36.396525</td>\n",
       "      <td>0</td>\n",
       "      <td>64.798</td>\n",
       "      <td>...</td>\n",
       "      <td>61.375541</td>\n",
       "      <td>95.466020</td>\n",
       "      <td>189</td>\n",
       "      <td>Clear</td>\n",
       "      <td>No</td>\n",
       "      <td>5</td>\n",
       "      <td>1</td>\n",
       "      <td>Saturday</td>\n",
       "      <td>1</td>\n",
       "      <td>2022</td>\n",
       "    </tr>\n",
       "    <tr>\n",
       "      <th>3</th>\n",
       "      <td>2022-01-01</td>\n",
       "      <td>Koramangala</td>\n",
       "      <td>Sony World Junction</td>\n",
       "      <td>60874</td>\n",
       "      <td>43.817610</td>\n",
       "      <td>1.500000</td>\n",
       "      <td>100.000000</td>\n",
       "      <td>100.000000</td>\n",
       "      <td>1</td>\n",
       "      <td>171.748</td>\n",
       "      <td>...</td>\n",
       "      <td>75.547092</td>\n",
       "      <td>63.567452</td>\n",
       "      <td>111</td>\n",
       "      <td>Clear</td>\n",
       "      <td>No</td>\n",
       "      <td>5</td>\n",
       "      <td>1</td>\n",
       "      <td>Saturday</td>\n",
       "      <td>1</td>\n",
       "      <td>2022</td>\n",
       "    </tr>\n",
       "    <tr>\n",
       "      <th>4</th>\n",
       "      <td>2022-01-01</td>\n",
       "      <td>Koramangala</td>\n",
       "      <td>Sarjapur Road</td>\n",
       "      <td>57292</td>\n",
       "      <td>41.116763</td>\n",
       "      <td>1.500000</td>\n",
       "      <td>100.000000</td>\n",
       "      <td>100.000000</td>\n",
       "      <td>3</td>\n",
       "      <td>164.584</td>\n",
       "      <td>...</td>\n",
       "      <td>64.634762</td>\n",
       "      <td>93.155171</td>\n",
       "      <td>104</td>\n",
       "      <td>Clear</td>\n",
       "      <td>No</td>\n",
       "      <td>5</td>\n",
       "      <td>1</td>\n",
       "      <td>Saturday</td>\n",
       "      <td>1</td>\n",
       "      <td>2022</td>\n",
       "    </tr>\n",
       "  </tbody>\n",
       "</table>\n",
       "<p>5 rows × 21 columns</p>\n",
       "</div>"
      ],
      "text/plain": [
       "        Date    Area Name Road/Intersection Name  Traffic Volume  \\\n",
       "0 2022-01-01  Indiranagar          100 Feet Road           50590   \n",
       "1 2022-01-01  Indiranagar               CMH Road           30825   \n",
       "2 2022-01-01   Whitefield    Marathahalli Bridge            7399   \n",
       "3 2022-01-01  Koramangala    Sony World Junction           60874   \n",
       "4 2022-01-01  Koramangala          Sarjapur Road           57292   \n",
       "\n",
       "   Average Speed  Travel Time Index  Congestion Level  \\\n",
       "0      50.230299           1.500000        100.000000   \n",
       "1      29.377125           1.500000        100.000000   \n",
       "2      54.474398           1.039069         28.347994   \n",
       "3      43.817610           1.500000        100.000000   \n",
       "4      41.116763           1.500000        100.000000   \n",
       "\n",
       "   Road Capacity Utilization  Incident Reports  Environmental Impact  ...  \\\n",
       "0                 100.000000                 0               151.180  ...   \n",
       "1                 100.000000                 1               111.650  ...   \n",
       "2                  36.396525                 0                64.798  ...   \n",
       "3                 100.000000                 1               171.748  ...   \n",
       "4                 100.000000                 3               164.584  ...   \n",
       "\n",
       "   Traffic Signal Compliance  Parking Usage  Pedestrian and Cyclist Count  \\\n",
       "0                  84.044600      85.403629                           111   \n",
       "1                  91.407038      59.983689                           100   \n",
       "2                  61.375541      95.466020                           189   \n",
       "3                  75.547092      63.567452                           111   \n",
       "4                  64.634762      93.155171                           104   \n",
       "\n",
       "   Weather Conditions Roadwork and Construction Activity Day of Week  \\\n",
       "0               Clear                                 No           5   \n",
       "1               Clear                                 No           5   \n",
       "2               Clear                                 No           5   \n",
       "3               Clear                                 No           5   \n",
       "4               Clear                                 No           5   \n",
       "\n",
       "   Is Weekend  Day Name Month  Year  \n",
       "0           1  Saturday     1  2022  \n",
       "1           1  Saturday     1  2022  \n",
       "2           1  Saturday     1  2022  \n",
       "3           1  Saturday     1  2022  \n",
       "4           1  Saturday     1  2022  \n",
       "\n",
       "[5 rows x 21 columns]"
      ]
     },
     "execution_count": 22,
     "metadata": {},
     "output_type": "execute_result"
    }
   ],
   "source": [
    "df_copy.head()"
   ]
  },
  {
   "cell_type": "code",
   "execution_count": 23,
   "id": "d85f83db",
   "metadata": {
    "execution": {
     "iopub.execute_input": "2025-10-03T19:00:35.281168Z",
     "iopub.status.busy": "2025-10-03T19:00:35.280767Z",
     "iopub.status.idle": "2025-10-03T19:00:35.454490Z",
     "shell.execute_reply": "2025-10-03T19:00:35.453312Z"
    },
    "papermill": {
     "duration": 0.183069,
     "end_time": "2025-10-03T19:00:35.456253",
     "exception": false,
     "start_time": "2025-10-03T19:00:35.273184",
     "status": "completed"
    },
    "tags": []
   },
   "outputs": [],
   "source": [
    "# Exporting the cleaned and processed data\n",
    "df_copy.to_csv(\"..\\dataset\\processed_dataset.csv\", index = False)"
   ]
  },
  {
   "cell_type": "code",
   "execution_count": null,
   "id": "605e0a03",
   "metadata": {
    "papermill": {
     "duration": 0.006142,
     "end_time": "2025-10-03T19:00:35.469042",
     "exception": false,
     "start_time": "2025-10-03T19:00:35.462900",
     "status": "completed"
    },
    "tags": []
   },
   "outputs": [],
   "source": []
  }
 ],
 "metadata": {
  "kaggle": {
   "accelerator": "none",
   "dataSources": [
    {
     "datasetId": 8398562,
     "sourceId": 13253713,
     "sourceType": "datasetVersion"
    }
   ],
   "dockerImageVersionId": 31089,
   "isGpuEnabled": false,
   "isInternetEnabled": true,
   "language": "python",
   "sourceType": "notebook"
  },
  "kernelspec": {
   "display_name": "Python 3",
   "language": "python",
   "name": "python3"
  },
  "language_info": {
   "codemirror_mode": {
    "name": "ipython",
    "version": 3
   },
   "file_extension": ".py",
   "mimetype": "text/x-python",
   "name": "python",
   "nbconvert_exporter": "python",
   "pygments_lexer": "ipython3",
   "version": "3.11.13"
  },
  "papermill": {
   "default_parameters": {},
   "duration": 12.216289,
   "end_time": "2025-10-03T19:00:36.197973",
   "environment_variables": {},
   "exception": null,
   "input_path": "__notebook__.ipynb",
   "output_path": "__notebook__.ipynb",
   "parameters": {},
   "start_time": "2025-10-03T19:00:23.981684",
   "version": "2.6.0"
  }
 },
 "nbformat": 4,
 "nbformat_minor": 5
}
